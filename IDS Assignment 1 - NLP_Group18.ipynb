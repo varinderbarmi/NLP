{
 "cells":[
  {
   "cell_type":"markdown",
   "source":[
    "# Q1"
   ],
   "attachments":{
    
   },
   "metadata":{
    "datalore":{
     "type":"MD",
     "hide_input_from_viewers":false,
     "hide_output_from_viewers":false,
     "sheet_delimiter":true
    }
   }
  },
  {
   "cell_type":"markdown",
   "source":[
    "# **Assignment NLP**\n",
    "\n",
    "**Group No.:** 18\n",
    "\n",
    "**Group Members:**\n",
    "\n",
    "1. VARINDER SINGH  - 2021fc04070@wilp.bits-pilani.ac.in\n",
    "\n",
    "2. BANDARU RAJA SEKHAR  - 2021fc04074@wilp.bits-pilani.ac.in\n",
    "\n",
    "3. MIKHIL. P.A.  - 2021fc04326@wilp.bits-pilani.ac.in"
   ],
   "attachments":{
    
   },
   "metadata":{
    "datalore":{
     "type":"MD",
     "hide_input_from_viewers":false,
     "hide_output_from_viewers":false,
     "node_id":"IX8GBN9UNLokccC2m8L0xY"
    }
   }
  },
  {
   "cell_type":"markdown",
   "source":[
    "# Q1. \n",
    "Consider the text string\n",
    "\n",
    "text = \"\"\"Founded in 2002, SpaceX’s mission is to enable humans to become a spacefaring civilization and a multi-planet species by building a self-sustaining city on Mars. In 2008, SpaceX’s Falcon 1 became the first privately developed liquid-fuel launch vehicle to orbit the Earth. 🥶😇👌 \"\"\"\n",
    "\n",
    "Apply the following text processing methods using python NLTK library\n",
    "1.\tWord tokenization\n",
    "2.\tSentence tokenization\n",
    "3.\tTweet tokenization\n",
    "4.\tMWETokenizer\n",
    "5.\tRegexpTokenizer\n",
    "6.\tTextBlob Word Tokenize\n",
    "7.\tList noun_phrases\n",
    "8.\tDetermine sentiment.polarity"
   ],
   "attachments":{
    
   },
   "metadata":{
    "datalore":{
     "type":"MD",
     "hide_input_from_viewers":false,
     "hide_output_from_viewers":false,
     "node_id":"BHsnxTdkTH37tIHAI3diOn"
    }
   }
  },
  {
   "cell_type":"code",
   "source":[
    "import nltk\n",
    "from nltk import word_tokenize, pos_tag, ne_chunk\n",
    "from nltk import RegexpParser\n",
    "from nltk import Tree\n",
    "import pandas as pd\n",
    "\n",
    "nltk.download('maxent_ne_chunker')\n",
    "nltk.download('words')\n",
    "nltk.download('averaged_perceptron_tagger')\n",
    "nltk.download('punkt')\n",
    "nltk.download('vader_lexicon')\n",
    "nltk.download('brown')"
   ],
   "execution_count":82,
   "outputs":[
    {
     "name":"stderr",
     "text":[
      "[nltk_data] Downloading package maxent_ne_chunker to\n",
      "[nltk_data]     \/home\/datalore\/nltk_data...\n",
      "[nltk_data]   Package maxent_ne_chunker is already up-to-date!\n",
      "[nltk_data] Downloading package words to \/home\/datalore\/nltk_data...\n",
      "[nltk_data]   Package words is already up-to-date!\n",
      "[nltk_data] Downloading package averaged_perceptron_tagger to\n",
      "[nltk_data]     \/home\/datalore\/nltk_data...\n",
      "[nltk_data]   Package averaged_perceptron_tagger is already up-to-\n",
      "[nltk_data]       date!\n",
      "[nltk_data] Downloading package punkt to \/home\/datalore\/nltk_data...\n",
      "[nltk_data]   Package punkt is already up-to-date!\n",
      "[nltk_data] Downloading package vader_lexicon to\n",
      "[nltk_data]     \/home\/datalore\/nltk_data...\n",
      "[nltk_data]   Package vader_lexicon is already up-to-date!\n",
      "[nltk_data] Downloading package brown to \/home\/datalore\/nltk_data...\n",
      "[nltk_data]   Package brown is already up-to-date!\n"
     ],
     "output_type":"stream"
    },
    {
     "data":{
      "text\/plain":[
       "True"
      ]
     },
     "metadata":{
      
     },
     "output_type":"display_data"
    }
   ],
   "metadata":{
    "datalore":{
     "type":"CODE",
     "hide_input_from_viewers":false,
     "hide_output_from_viewers":false,
     "node_id":"gQbR2ltUt3xVhYN8J15mBn"
    }
   }
  },
  {
   "cell_type":"code",
   "source":[
    "text_data = \"\"\"Founded in 2002, SpaceX’s mission is to enable humans \\\n",
    "to become a spacefaring civilization and a multi-planet species by building a \\\n",
    "self-sustaining city on Mars. In 2008, SpaceX’s Falcon 1 became the first privately \\\n",
    "developed liquid-fuel launch vehicle to orbit the Earth. 🥶😇👌 \"\"\""
   ],
   "execution_count":83,
   "outputs":[
    
   ],
   "metadata":{
    "datalore":{
     "type":"CODE",
     "hide_input_from_viewers":false,
     "hide_output_from_viewers":false,
     "node_id":"EDPfQGScVl4MA0yOWLmEaE"
    }
   }
  },
  {
   "cell_type":"markdown",
   "source":[
    "## 1. Word Tokenisation"
   ],
   "attachments":{
    
   },
   "metadata":{
    "datalore":{
     "type":"MD",
     "hide_input_from_viewers":false,
     "hide_output_from_viewers":false,
     "node_id":"JRQUxSNn7po5YbjAQRXgBz"
    }
   }
  },
  {
   "cell_type":"code",
   "source":[
    "from nltk.tokenize import word_tokenize\n",
    "word_tokenize(text_data)"
   ],
   "execution_count":84,
   "outputs":[
    {
     "data":{
      "text\/plain":[
       "['Founded',\n",
       " 'in',\n",
       " '2002',\n",
       " ',',\n",
       " 'SpaceX',\n",
       " '’',\n",
       " 's',\n",
       " 'mission',\n",
       " 'is',\n",
       " 'to',\n",
       " 'enable',\n",
       " 'humans',\n",
       " 'to',\n",
       " 'become',\n",
       " 'a',\n",
       " 'spacefaring',\n",
       " 'civilization',\n",
       " 'and',\n",
       " 'a',\n",
       " 'multi-planet',\n",
       " 'species',\n",
       " 'by',\n",
       " 'building',\n",
       " 'a',\n",
       " 'self-sustaining',\n",
       " 'city',\n",
       " 'on',\n",
       " 'Mars',\n",
       " '.',\n",
       " 'In',\n",
       " '2008',\n",
       " ',',\n",
       " 'SpaceX',\n",
       " '’',\n",
       " 's',\n",
       " 'Falcon',\n",
       " '1',\n",
       " 'became',\n",
       " 'the',\n",
       " 'first',\n",
       " 'privately',\n",
       " 'developed',\n",
       " 'liquid-fuel',\n",
       " 'launch',\n",
       " 'vehicle',\n",
       " 'to',\n",
       " 'orbit',\n",
       " 'the',\n",
       " 'Earth',\n",
       " '.',\n",
       " '🥶😇👌']"
      ]
     },
     "metadata":{
      
     },
     "output_type":"display_data"
    }
   ],
   "metadata":{
    "datalore":{
     "type":"CODE",
     "hide_input_from_viewers":false,
     "hide_output_from_viewers":false,
     "node_id":"Cn2O5LH0mIwILoCVPZDSMS"
    }
   }
  },
  {
   "cell_type":"markdown",
   "source":[
    "## 2. Sentence Tokenisation"
   ],
   "attachments":{
    
   },
   "metadata":{
    "datalore":{
     "type":"MD",
     "hide_input_from_viewers":false,
     "hide_output_from_viewers":false,
     "node_id":"gsPEbCYqMEODUwrfbSc4Yc"
    }
   }
  },
  {
   "cell_type":"code",
   "source":[
    "from nltk.tokenize import sent_tokenize\n",
    "sent_tokenize(text_data)"
   ],
   "execution_count":85,
   "outputs":[
    {
     "data":{
      "text\/plain":[
       "['Founded in 2002, SpaceX’s mission is to enable humans to become a spacefaring civilization and a multi-planet species by building a self-sustaining city on Mars.',\n",
       " 'In 2008, SpaceX’s Falcon 1 became the first privately developed liquid-fuel launch vehicle to orbit the Earth.',\n",
       " '🥶😇👌']"
      ]
     },
     "metadata":{
      
     },
     "output_type":"display_data"
    }
   ],
   "metadata":{
    "datalore":{
     "type":"CODE",
     "hide_input_from_viewers":false,
     "hide_output_from_viewers":false,
     "node_id":"dZcpQoDIIKldbnMM1IbF7P"
    }
   }
  },
  {
   "cell_type":"markdown",
   "source":[
    "## 3. Tweet tokenization"
   ],
   "attachments":{
    
   },
   "metadata":{
    "datalore":{
     "type":"MD",
     "hide_input_from_viewers":false,
     "hide_output_from_viewers":false,
     "node_id":"DRNV2VB0aedQuj7i7KGxv2"
    }
   }
  },
  {
   "cell_type":"code",
   "source":[
    "from nltk.tokenize import TweetTokenizer\n",
    "\n",
    "tk = TweetTokenizer()\n",
    "tk.tokenize(text_data)"
   ],
   "execution_count":86,
   "outputs":[
    {
     "data":{
      "text\/plain":[
       "['Founded',\n",
       " 'in',\n",
       " '2002',\n",
       " ',',\n",
       " 'SpaceX',\n",
       " '’',\n",
       " 's',\n",
       " 'mission',\n",
       " 'is',\n",
       " 'to',\n",
       " 'enable',\n",
       " 'humans',\n",
       " 'to',\n",
       " 'become',\n",
       " 'a',\n",
       " 'spacefaring',\n",
       " 'civilization',\n",
       " 'and',\n",
       " 'a',\n",
       " 'multi-planet',\n",
       " 'species',\n",
       " 'by',\n",
       " 'building',\n",
       " 'a',\n",
       " 'self-sustaining',\n",
       " 'city',\n",
       " 'on',\n",
       " 'Mars',\n",
       " '.',\n",
       " 'In',\n",
       " '2008',\n",
       " ',',\n",
       " 'SpaceX',\n",
       " '’',\n",
       " 's',\n",
       " 'Falcon',\n",
       " '1',\n",
       " 'became',\n",
       " 'the',\n",
       " 'first',\n",
       " 'privately',\n",
       " 'developed',\n",
       " 'liquid-fuel',\n",
       " 'launch',\n",
       " 'vehicle',\n",
       " 'to',\n",
       " 'orbit',\n",
       " 'the',\n",
       " 'Earth',\n",
       " '.',\n",
       " '🥶',\n",
       " '😇',\n",
       " '👌']"
      ]
     },
     "metadata":{
      
     },
     "output_type":"display_data"
    }
   ],
   "metadata":{
    "datalore":{
     "type":"CODE",
     "hide_input_from_viewers":false,
     "hide_output_from_viewers":false,
     "node_id":"fFqprDauj1n4k6hnquTrIW"
    }
   }
  },
  {
   "cell_type":"markdown",
   "source":[
    "## 4. MWETokenizer"
   ],
   "attachments":{
    
   },
   "metadata":{
    "datalore":{
     "type":"MD",
     "hide_input_from_viewers":false,
     "hide_output_from_viewers":false,
     "node_id":"kU941Q0DQ6oX4PQLHuu6RN"
    }
   }
  },
  {
   "cell_type":"code",
   "source":[
    "\n",
    "from nltk.tokenize import MWETokenizer\n",
    "\n",
    "tk = MWETokenizer([('Founded', 'in', '2002,'),\n",
    "                   ('SpaceX’s', 'mission'),\n",
    "                   ('enable', 'humans'),\n",
    "                   ('spacefaring', 'civilization'),\n",
    "                   ('multi-planet', 'species'),\n",
    "                   ('self-sustaining', 'city'),\n",
    "                   ('SpaceX’s', 'Falcon'),\n",
    "                   ('privately', 'developed', 'liquid-fuel', 'launch', 'vehicle'),\n",
    "                   ('orbit', 'the', 'Earth.')\n",
    "                ]\n",
    "                  , separator=\"+\")\n",
    "token = tk.tokenize(text_data.split())\n",
    "\n",
    "for i in token:\n",
    "    print(i)"
   ],
   "execution_count":87,
   "outputs":[
    {
     "name":"stdout",
     "text":[
      "Founded+in+2002,\n",
      "SpaceX’s+mission\n",
      "is\n",
      "to\n",
      "enable+humans\n",
      "to\n",
      "become\n",
      "a\n",
      "spacefaring+civilization\n",
      "and\n",
      "a\n",
      "multi-planet+species\n",
      "by\n",
      "building\n",
      "a\n",
      "self-sustaining+city\n",
      "on\n",
      "Mars.\n",
      "In\n",
      "2008,\n",
      "SpaceX’s+Falcon\n",
      "1\n",
      "became\n",
      "the\n",
      "first\n",
      "privately+developed+liquid-fuel+launch+vehicle\n",
      "to\n",
      "orbit+the+Earth.\n",
      "🥶😇👌\n"
     ],
     "output_type":"stream"
    }
   ],
   "metadata":{
    "datalore":{
     "type":"CODE",
     "hide_input_from_viewers":false,
     "hide_output_from_viewers":false,
     "node_id":"05c4lPTj2A8k16RmLDuXZM"
    }
   }
  },
  {
   "cell_type":"markdown",
   "source":[
    "## 5. RegexpTokenizer"
   ],
   "attachments":{
    
   },
   "metadata":{
    "datalore":{
     "type":"MD",
     "hide_input_from_viewers":false,
     "hide_output_from_viewers":false,
     "node_id":"o5zZ7JuZMDHOHkSzlXGwl9"
    }
   }
  },
  {
   "cell_type":"code",
   "source":[
    "from nltk.tokenize import RegexpTokenizer\n",
    "tokenizer = RegexpTokenizer('[\\d\\.]+')\n",
    "tokenizer.tokenize(text_data)"
   ],
   "execution_count":88,
   "outputs":[
    {
     "data":{
      "text\/plain":[
       "['2002', '.', '2008', '1', '.']"
      ]
     },
     "metadata":{
      
     },
     "output_type":"display_data"
    }
   ],
   "metadata":{
    "datalore":{
     "type":"CODE",
     "hide_input_from_viewers":false,
     "hide_output_from_viewers":false,
     "node_id":"BFZohyRySf830oZYbeJBiw"
    }
   }
  },
  {
   "cell_type":"markdown",
   "source":[
    "## 6. TextBlob Word Tokenize"
   ],
   "attachments":{
    
   },
   "metadata":{
    "datalore":{
     "type":"MD",
     "hide_input_from_viewers":false,
     "hide_output_from_viewers":false,
     "node_id":"aFmnI7gMGjQaJfqbW8Y9Zy"
    }
   }
  },
  {
   "cell_type":"code",
   "source":[
    "from textblob import TextBlob\n",
    "\t\n",
    "blob_object = TextBlob(text_data)\n",
    "\n",
    "print(\" Word Tokenize :\\n\", blob_object.words)\n",
    "print(\"\\n Sentence Tokenize :\\n\", blob_object.sentences)"
   ],
   "execution_count":89,
   "outputs":[
    {
     "name":"stdout",
     "text":[
      " Word Tokenize :\n",
      " ['Founded', 'in', '2002', 'SpaceX', '’', 's', 'mission', 'is', 'to', 'enable', 'humans', 'to', 'become', 'a', 'spacefaring', 'civilization', 'and', 'a', 'multi-planet', 'species', 'by', 'building', 'a', 'self-sustaining', 'city', 'on', 'Mars', 'In', '2008', 'SpaceX', '’', 's', 'Falcon', '1', 'became', 'the', 'first', 'privately', 'developed', 'liquid-fuel', 'launch', 'vehicle', 'to', 'orbit', 'the', 'Earth', '🥶😇👌']\n",
      "\n",
      " Sentence Tokenize :\n",
      " [Sentence(\"Founded in 2002, SpaceX’s mission is to enable humans to become a spacefaring civilization and a multi-planet species by building a self-sustaining city on Mars.\"), Sentence(\"In 2008, SpaceX’s Falcon 1 became the first privately developed liquid-fuel launch vehicle to orbit the Earth.\"), Sentence(\"🥶😇👌\")]\n"
     ],
     "output_type":"stream"
    }
   ],
   "metadata":{
    "datalore":{
     "type":"CODE",
     "hide_input_from_viewers":false,
     "hide_output_from_viewers":false,
     "node_id":"AudqT0neP3AlYU6iHhUIjY"
    }
   }
  },
  {
   "cell_type":"markdown",
   "source":[
    "## 7. List noun_phrases"
   ],
   "attachments":{
    
   },
   "metadata":{
    "datalore":{
     "type":"MD",
     "hide_input_from_viewers":false,
     "hide_output_from_viewers":false,
     "node_id":"twcM5K3rCrvPgvNRT6DgA1"
    }
   }
  },
  {
   "cell_type":"code",
   "source":[
    "nouns = blob_object.noun_phrases\n",
    "nouns = set(nouns)\n",
    "\n",
    "print(\"Nouns in the text_data:\\n-------------------------\")\n",
    "for i in nouns:\n",
    "    if not(str(i).__contains__(\"’ s\")):\n",
    "        print(str(i).capitalize())"
   ],
   "execution_count":90,
   "outputs":[
    {
     "name":"stdout",
     "text":[
      "Nouns in the text_data:\n",
      "-------------------------\n",
      "Earth\n",
      "Falcon\n",
      "Multi-planet species\n",
      "Founded\n",
      "Liquid-fuel launch vehicle\n",
      "Enable humans\n",
      "Spacex\n",
      "Mars\n"
     ],
     "output_type":"stream"
    }
   ],
   "metadata":{
    "datalore":{
     "type":"CODE",
     "hide_input_from_viewers":false,
     "hide_output_from_viewers":false,
     "node_id":"zn9pHhagu4YY5ZOEA3QyRd"
    }
   }
  },
  {
   "cell_type":"markdown",
   "source":[
    "## 8. Determine sentiment.polarity"
   ],
   "attachments":{
    
   },
   "metadata":{
    "datalore":{
     "type":"MD",
     "hide_input_from_viewers":false,
     "hide_output_from_viewers":false,
     "node_id":"rbuQJE2nMl42gVV1oRcfBj"
    }
   }
  },
  {
   "cell_type":"code",
   "source":[
    "from nltk.sentiment.vader import SentimentIntensityAnalyzer\n",
    "\n",
    "for i in sent_tokenize(text_data):\n",
    "    sia = SentimentIntensityAnalyzer()\n",
    "    print(i)\n",
    "    print(sia.polarity_scores(i)) \n",
    "    print('\\n')"
   ],
   "execution_count":91,
   "outputs":[
    {
     "name":"stdout",
     "text":[
      "Founded in 2002, SpaceX’s mission is to enable humans to become a spacefaring civilization and a multi-planet species by building a self-sustaining city on Mars.\n",
      "{'neg': 0.0, 'neu': 1.0, 'pos': 0.0, 'compound': 0.0}\n",
      "\n",
      "\n",
      "In 2008, SpaceX’s Falcon 1 became the first privately developed liquid-fuel launch vehicle to orbit the Earth.\n",
      "{'neg': 0.0, 'neu': 1.0, 'pos': 0.0, 'compound': 0.0}\n",
      "\n",
      "\n",
      "🥶😇👌\n",
      "{'neg': 0.0, 'neu': 1.0, 'pos': 0.0, 'compound': 0.0}\n",
      "\n",
      "\n"
     ],
     "output_type":"stream"
    }
   ],
   "metadata":{
    "datalore":{
     "type":"CODE",
     "hide_input_from_viewers":false,
     "hide_output_from_viewers":false,
     "node_id":"aPLa9TotgD9qWh2r7FnWOF"
    }
   }
  },
  {
   "cell_type":"markdown",
   "source":[
    "# Q2"
   ],
   "attachments":{
    
   },
   "metadata":{
    "datalore":{
     "type":"MD",
     "hide_input_from_viewers":false,
     "hide_output_from_viewers":false,
     "sheet_delimiter":true
    }
   }
  },
  {
   "cell_type":"markdown",
   "source":[
    "# Q2.\n",
    "Discuss bag of words model and apply it on following documents.\n",
    "\n",
    "doc1 = 'Game of Thrones is an amazing tv series!' <br>\n",
    "doc2 = 'Game of Thrones is the best tv series!' <br>\n",
    "doc3 = 'Game of Thrones is so great' <br>"
   ],
   "attachments":{
    
   },
   "metadata":{
    "datalore":{
     "type":"MD",
     "hide_input_from_viewers":false,
     "hide_output_from_viewers":false,
     "node_id":"dyb8W9UKAgaN65fzvMSA8b"
    }
   }
  },
  {
   "cell_type":"markdown",
   "source":[
    "The bag-of-words model is a way of representing text data when modeling text with machine learning algorithms.\n",
    "\n",
    "The bag-of-words model is simple to understand and implement and has seen great success in problems such as language modeling and document classification. Whenever we apply any algorithm in NLP, it works on numbers. We cannot directly feed our text into that algorithm. Hence, Bag of Words model is used to preprocess the text by converting it into a bag of words, which keeps a count of the total occurrences of most frequently used words.\n",
    "\n",
    "This model can be visualized using a table, which contains the count of words corresponding to the word itself."
   ],
   "attachments":{
    
   },
   "metadata":{
    "datalore":{
     "type":"MD",
     "hide_input_from_viewers":false,
     "hide_output_from_viewers":false,
     "node_id":"QZQfZ6CzWOnLiEAkQOWvuC"
    }
   }
  },
  {
   "cell_type":"code",
   "source":[
    "import pandas as pd\n",
    "import numpy as np\n",
    "import re"
   ],
   "execution_count":92,
   "outputs":[
    
   ],
   "metadata":{
    "datalore":{
     "type":"CODE",
     "hide_input_from_viewers":false,
     "hide_output_from_viewers":false,
     "node_id":"QiRjpxXAg4jbGxQpsxXZz9"
    }
   }
  },
  {
   "cell_type":"code",
   "source":[
    "doc1 = 'Game of Thrones is an amazing tv series!'\n",
    "doc2 = 'Game of Thrones is the best tv series!'\n",
    "doc3 = 'Game of Thrones is so great'\n",
    "\n",
    "l_doc1 = re.sub(r\"[^a-zA-Z0-9]\", \" \", doc1.lower()).split()\n",
    "l_doc2 = re.sub(r\"[^a-zA-Z0-9]\", \" \", doc2.lower()).split()\n",
    "l_doc3 = re.sub(r\"[^a-zA-Z0-9]\", \" \", doc3.lower()).split()\n",
    "\n",
    "wordset12 = np.union1d(l_doc1,l_doc2)\n",
    "wordset =  np.union1d(wordset12,l_doc3)\n",
    "print(wordset)"
   ],
   "execution_count":93,
   "outputs":[
    {
     "name":"stdout",
     "text":[
      "['amazing' 'an' 'best' 'game' 'great' 'is' 'of' 'series' 'so' 'the'\n",
      " 'thrones' 'tv']\n"
     ],
     "output_type":"stream"
    }
   ],
   "metadata":{
    "datalore":{
     "type":"CODE",
     "hide_input_from_viewers":false,
     "hide_output_from_viewers":false,
     "node_id":"4dyrSZxZBkplcLeU5gSxVy"
    }
   }
  },
  {
   "cell_type":"code",
   "source":[
    "def calculate_bow(word_set,l_doc):\n",
    "  tf_diz = dict.fromkeys(word_set,0)\n",
    "  for word in l_doc:\n",
    "      tf_diz[word]=l_doc.count(word)\n",
    "  return tf_diz"
   ],
   "execution_count":94,
   "outputs":[
    
   ],
   "metadata":{
    "datalore":{
     "type":"CODE",
     "hide_input_from_viewers":false,
     "hide_output_from_viewers":false,
     "node_id":"3JMiyfeM2IBPaoZFGso5hW"
    }
   }
  },
  {
   "cell_type":"code",
   "source":[
    "bow1 = calculate_bow(wordset,l_doc1)\n",
    "bow2 = calculate_bow(wordset,l_doc2)\n",
    "bow3 = calculate_bow(wordset,l_doc3)\n",
    "df_bow = pd.DataFrame([bow1,bow2,bow3])\n",
    "df_bow.head()"
   ],
   "execution_count":95,
   "outputs":[
    {
     "data":{
      "text\/html":[
       "<div>\n",
       "<style scoped>\n",
       "    .dataframe tbody tr th:only-of-type {\n",
       "        vertical-align: middle;\n",
       "    }\n",
       "\n",
       "    .dataframe tbody tr th {\n",
       "        vertical-align: top;\n",
       "    }\n",
       "\n",
       "    .dataframe thead th {\n",
       "        text-align: right;\n",
       "    }\n",
       "<\/style>\n",
       "<table border=\"1\" class=\"dataframe\">\n",
       "  <thead>\n",
       "    <tr style=\"text-align: right;\">\n",
       "      <th><\/th>\n",
       "      <th>amazing<\/th>\n",
       "      <th>an<\/th>\n",
       "      <th>best<\/th>\n",
       "      <th>game<\/th>\n",
       "      <th>great<\/th>\n",
       "      <th>is<\/th>\n",
       "      <th>of<\/th>\n",
       "      <th>series<\/th>\n",
       "      <th>so<\/th>\n",
       "      <th>the<\/th>\n",
       "      <th>thrones<\/th>\n",
       "      <th>tv<\/th>\n",
       "    <\/tr>\n",
       "  <\/thead>\n",
       "  <tbody>\n",
       "    <tr>\n",
       "      <th>0<\/th>\n",
       "      <td>1<\/td>\n",
       "      <td>1<\/td>\n",
       "      <td>0<\/td>\n",
       "      <td>1<\/td>\n",
       "      <td>0<\/td>\n",
       "      <td>1<\/td>\n",
       "      <td>1<\/td>\n",
       "      <td>1<\/td>\n",
       "      <td>0<\/td>\n",
       "      <td>0<\/td>\n",
       "      <td>1<\/td>\n",
       "      <td>1<\/td>\n",
       "    <\/tr>\n",
       "    <tr>\n",
       "      <th>1<\/th>\n",
       "      <td>0<\/td>\n",
       "      <td>0<\/td>\n",
       "      <td>1<\/td>\n",
       "      <td>1<\/td>\n",
       "      <td>0<\/td>\n",
       "      <td>1<\/td>\n",
       "      <td>1<\/td>\n",
       "      <td>1<\/td>\n",
       "      <td>0<\/td>\n",
       "      <td>1<\/td>\n",
       "      <td>1<\/td>\n",
       "      <td>1<\/td>\n",
       "    <\/tr>\n",
       "    <tr>\n",
       "      <th>2<\/th>\n",
       "      <td>0<\/td>\n",
       "      <td>0<\/td>\n",
       "      <td>0<\/td>\n",
       "      <td>1<\/td>\n",
       "      <td>1<\/td>\n",
       "      <td>1<\/td>\n",
       "      <td>1<\/td>\n",
       "      <td>0<\/td>\n",
       "      <td>1<\/td>\n",
       "      <td>0<\/td>\n",
       "      <td>1<\/td>\n",
       "      <td>0<\/td>\n",
       "    <\/tr>\n",
       "  <\/tbody>\n",
       "<\/table>\n",
       "<\/div>"
      ]
     },
     "metadata":{
      
     },
     "output_type":"display_data"
    }
   ],
   "metadata":{
    "datalore":{
     "type":"CODE",
     "hide_input_from_viewers":false,
     "hide_output_from_viewers":false,
     "node_id":"QMgW76QvVa94m58cxOnDdc"
    }
   }
  },
  {
   "cell_type":"markdown",
   "source":[
    "# Q3"
   ],
   "attachments":{
    
   },
   "metadata":{
    "datalore":{
     "type":"MD",
     "hide_input_from_viewers":false,
     "hide_output_from_viewers":false,
     "sheet_delimiter":true
    }
   }
  },
  {
   "cell_type":"markdown",
   "source":[
    "# Q3. \n",
    "Discuss TF-IDF model and find the TF-ID score of words for the following dataset\n",
    "\n",
    "<br>\n",
    "\n",
    "dataset = [ <br>\n",
    "\"I enjoy reading about Machine Learning and Data Science\",<br>\n",
    "\"Machine Learning is the field of study that gives computers the capability to learn without being explicitly programmed.\",<br>\n",
    "\"Data science is the field of study that combines domain expertise, programming skills, and knowledge of mathematics and statistics to extract meaningful insights from data.\",<br>\n",
    " \"I would enjoy a walk in the park\",<br>\n",
    " \"I was reading in the library\"<br>\n",
    "]"
   ],
   "attachments":{
    
   },
   "metadata":{
    "datalore":{
     "type":"MD",
     "hide_input_from_viewers":false,
     "hide_output_from_viewers":false,
     "node_id":"Xed4d735abtg5mN7nT1vuU"
    }
   }
  },
  {
   "cell_type":"markdown",
   "source":[
    "TF-IDF stands for Term Frequency Inverse Document Frequency of records. It can be defined as the calculation of how relevant a word in a series or corpus is to a text. The meaning increases proportionally to the number of times in the text a word appears but is compensated by the word frequency in the corpus (data-set).\n",
    "\n",
    "TF-IDF for a word in a document is calculated by multiplying two different metrics:\n",
    "\n",
    "- The term frequency of a word in a document. There are several ways of calculating this frequency, with the simplest being a raw count of instances a word appears in a document. Then, there are ways to adjust the frequency, by length of a document, or by the raw frequency of the most frequent word in a document. The weight of a term that occurs in a document is simply proportional to the term frequency.\n",
    "\n",
    "    tf(t,d) = count of t in d \/ number of words in d\n",
    "\n",
    "\n",
    "- The inverse document frequency of the word across a set of documents. This means, how common or rare a word is in the entire document set. The closer it is to 0, the more common a word is. This metric can be calculated by taking the total number of documents, dividing it by the number of documents that contain a word, and calculating the logarithm.\n",
    "\n",
    "- So, if the word is very common and appears in many documents, this number will approach 0. Otherwise, it will approach 1.\n",
    "\n",
    "- Multiplying these two numbers results in the TF-IDF score of a word in a document. The higher the score, the more relevant that word is in that particular document."
   ],
   "attachments":{
    
   },
   "metadata":{
    "datalore":{
     "type":"MD",
     "hide_input_from_viewers":false,
     "hide_output_from_viewers":false,
     "node_id":"pZDd7HuejoGPo3pIPG8YPN"
    }
   }
  },
  {
   "cell_type":"code",
   "source":[
    "dataset = [\n",
    "\"I enjoy reading about Machine Learning and Data Science\",\n",
    "\"Machine Learning is the field of study that gives computers the capability to learn without being explicitly programmed.\",\n",
    "\"Data science is the field of study that combines domain expertise, programming skills, and knowledge of mathematics and statistics to extract meaningful insights from data.\",\n",
    "\"I would enjoy a walk in the park\",\n",
    "\"I was reading in the library\"\n",
    "]"
   ],
   "execution_count":96,
   "outputs":[
    
   ],
   "metadata":{
    "datalore":{
     "type":"CODE",
     "hide_input_from_viewers":false,
     "hide_output_from_viewers":false,
     "node_id":"ZvfEDMhwFfdJAffJE0Tmrj"
    }
   }
  },
  {
   "cell_type":"code",
   "source":[
    "from sklearn.feature_extraction.text import TfidfVectorizer\n",
    "\n",
    "tfidf = TfidfVectorizer()\n",
    "result = tfidf.fit_transform(dataset)\n",
    "result"
   ],
   "execution_count":97,
   "outputs":[
    {
     "data":{
      "text\/plain":[
       "<5x41 sparse matrix of type '<class 'numpy.float64'>'\n",
       "\twith 58 stored elements in Compressed Sparse Row format>"
      ]
     },
     "metadata":{
      
     },
     "output_type":"display_data"
    }
   ],
   "metadata":{
    "datalore":{
     "type":"CODE",
     "hide_input_from_viewers":false,
     "hide_output_from_viewers":false,
     "node_id":"c1RakIpOyGCLzJYP8RWaap"
    }
   }
  },
  {
   "cell_type":"code",
   "source":[
    "print(tfidf.get_feature_names_out())"
   ],
   "execution_count":98,
   "outputs":[
    {
     "name":"stdout",
     "text":[
      "['about' 'and' 'being' 'capability' 'combines' 'computers' 'data' 'domain'\n",
      " 'enjoy' 'expertise' 'explicitly' 'extract' 'field' 'from' 'gives' 'in'\n",
      " 'insights' 'is' 'knowledge' 'learn' 'learning' 'library' 'machine'\n",
      " 'mathematics' 'meaningful' 'of' 'park' 'programmed' 'programming'\n",
      " 'reading' 'science' 'skills' 'statistics' 'study' 'that' 'the' 'to'\n",
      " 'walk' 'was' 'without' 'would']\n"
     ],
     "output_type":"stream"
    }
   ],
   "metadata":{
    "datalore":{
     "type":"CODE",
     "hide_input_from_viewers":false,
     "hide_output_from_viewers":false,
     "node_id":"dk6tyoaaii38jNN6WTixwY"
    }
   }
  },
  {
   "cell_type":"code",
   "source":[
    "print('\\nIDF Values:\\n---------------------------\\n---------------------------\\n')\n",
    "\n",
    "for ele1, ele2 in zip(tfidf.get_feature_names_out(), tfidf.idf_):\n",
    "    print(ele1, ':', ele2)"
   ],
   "execution_count":99,
   "outputs":[
    {
     "name":"stdout",
     "text":[
      "\n",
      "IDF Values:\n",
      "---------------------------\n",
      "---------------------------\n",
      "\n",
      "about : 2.09861228866811\n",
      "and : 1.6931471805599454\n",
      "being : 2.09861228866811\n",
      "capability : 2.09861228866811\n",
      "combines : 2.09861228866811\n",
      "computers : 2.09861228866811\n",
      "data : 1.6931471805599454\n",
      "domain : 2.09861228866811\n",
      "enjoy : 1.6931471805599454\n",
      "expertise : 2.09861228866811\n",
      "explicitly : 2.09861228866811\n",
      "extract : 2.09861228866811\n",
      "field : 1.6931471805599454\n",
      "from : 2.09861228866811\n",
      "gives : 2.09861228866811\n",
      "in : 1.6931471805599454\n",
      "insights : 2.09861228866811\n",
      "is : 1.6931471805599454\n",
      "knowledge : 2.09861228866811\n",
      "learn : 2.09861228866811\n",
      "learning : 1.6931471805599454\n",
      "library : 2.09861228866811\n",
      "machine : 1.6931471805599454\n",
      "mathematics : 2.09861228866811\n",
      "meaningful : 2.09861228866811\n",
      "of : 1.6931471805599454\n",
      "park : 2.09861228866811\n",
      "programmed : 2.09861228866811\n",
      "programming : 2.09861228866811\n",
      "reading : 1.6931471805599454\n",
      "science : 1.6931471805599454\n",
      "skills : 2.09861228866811\n",
      "statistics : 2.09861228866811\n",
      "study : 1.6931471805599454\n",
      "that : 1.6931471805599454\n",
      "the : 1.1823215567939547\n",
      "to : 1.6931471805599454\n",
      "walk : 2.09861228866811\n",
      "was : 2.09861228866811\n",
      "without : 2.09861228866811\n",
      "would : 2.09861228866811\n"
     ],
     "output_type":"stream"
    }
   ],
   "metadata":{
    "datalore":{
     "type":"CODE",
     "hide_input_from_viewers":false,
     "hide_output_from_viewers":false,
     "node_id":"MdW6ArPR4I6RbTGTU1UtYn"
    }
   }
  },
  {
   "cell_type":"code",
   "source":[
    "# get indexing\n",
    "print('\\nWord Indexes:\\n---------------------------\\n---------------------------\\n')\n",
    "print(tfidf.vocabulary_)"
   ],
   "execution_count":100,
   "outputs":[
    {
     "name":"stdout",
     "text":[
      "\n",
      "Word Indexes:\n",
      "---------------------------\n",
      "---------------------------\n",
      "\n",
      "{'enjoy': 8, 'reading': 29, 'about': 0, 'machine': 22, 'learning': 20, 'and': 1, 'data': 6, 'science': 30, 'is': 17, 'the': 35, 'field': 12, 'of': 25, 'study': 33, 'that': 34, 'gives': 14, 'computers': 5, 'capability': 3, 'to': 36, 'learn': 19, 'without': 39, 'being': 2, 'explicitly': 10, 'programmed': 27, 'combines': 4, 'domain': 7, 'expertise': 9, 'programming': 28, 'skills': 31, 'knowledge': 18, 'mathematics': 23, 'statistics': 32, 'extract': 11, 'meaningful': 24, 'insights': 16, 'from': 13, 'would': 40, 'walk': 37, 'in': 15, 'park': 26, 'was': 38, 'library': 21}\n"
     ],
     "output_type":"stream"
    }
   ],
   "metadata":{
    "datalore":{
     "type":"CODE",
     "hide_input_from_viewers":false,
     "hide_output_from_viewers":false,
     "node_id":"bg9OMrPx8ozpTXq4BAtzPV"
    }
   }
  },
  {
   "cell_type":"code",
   "source":[
    "# display tf-idf values\n",
    "print('\\nTF-IDF value:\\n---------------------------\\n---------------------------\\n')\n",
    "print(result)"
   ],
   "execution_count":101,
   "outputs":[
    {
     "name":"stdout",
     "text":[
      "\n",
      "TF-IDF value:\n",
      "---------------------------\n",
      "---------------------------\n",
      "\n",
      "  (0, 30)\t0.3422671810690251\n",
      "  (0, 6)\t0.3422671810690251\n",
      "  (0, 1)\t0.3422671810690251\n",
      "  (0, 20)\t0.3422671810690251\n",
      "  (0, 22)\t0.3422671810690251\n",
      "  (0, 0)\t0.4242313488433432\n",
      "  (0, 29)\t0.3422671810690251\n",
      "  (0, 8)\t0.3422671810690251\n",
      "  (1, 27)\t0.2628220441905301\n",
      "  (1, 10)\t0.2628220441905301\n",
      "  (1, 2)\t0.2628220441905301\n",
      "  (1, 39)\t0.2628220441905301\n",
      "  (1, 19)\t0.2628220441905301\n",
      "  (1, 36)\t0.2120431703907612\n",
      "  (1, 3)\t0.2628220441905301\n",
      "  (1, 5)\t0.2628220441905301\n",
      "  (1, 14)\t0.2628220441905301\n",
      "  (1, 34)\t0.2120431703907612\n",
      "  (1, 33)\t0.2120431703907612\n",
      "  (1, 25)\t0.2120431703907612\n",
      "  (1, 12)\t0.2120431703907612\n",
      "  (1, 35)\t0.2961387104469203\n",
      "  (1, 17)\t0.2120431703907612\n",
      "  (1, 20)\t0.2120431703907612\n",
      "  (1, 22)\t0.2120431703907612\n",
      "  :\t:\n",
      "  (2, 28)\t0.20398018031255918\n",
      "  (2, 9)\t0.20398018031255918\n",
      "  (2, 7)\t0.20398018031255918\n",
      "  (2, 4)\t0.20398018031255918\n",
      "  (2, 36)\t0.16456992511251706\n",
      "  (2, 34)\t0.16456992511251706\n",
      "  (2, 33)\t0.16456992511251706\n",
      "  (2, 25)\t0.3291398502250341\n",
      "  (2, 12)\t0.16456992511251706\n",
      "  (2, 35)\t0.11491887550859424\n",
      "  (2, 17)\t0.16456992511251706\n",
      "  (2, 30)\t0.16456992511251706\n",
      "  (2, 6)\t0.3291398502250341\n",
      "  (2, 1)\t0.3291398502250341\n",
      "  (3, 26)\t0.46528077621032954\n",
      "  (3, 15)\t0.3753856006004972\n",
      "  (3, 37)\t0.46528077621032954\n",
      "  (3, 40)\t0.46528077621032954\n",
      "  (3, 35)\t0.26213107330293306\n",
      "  (3, 8)\t0.3753856006004972\n",
      "  (4, 21)\t0.5256440883810602\n",
      "  (4, 38)\t0.5256440883810602\n",
      "  (4, 15)\t0.42408634078152246\n",
      "  (4, 35)\t0.29613871044692036\n",
      "  (4, 29)\t0.42408634078152246\n"
     ],
     "output_type":"stream"
    }
   ],
   "metadata":{
    "datalore":{
     "type":"CODE",
     "hide_input_from_viewers":false,
     "hide_output_from_viewers":false,
     "node_id":"qJw16KtBSq6j4MzmdoQdpG"
    }
   }
  },
  {
   "cell_type":"code",
   "source":[
    "# in matrix form\n",
    "print('\\nTF-IDF values in matrix form:\\n---------------------------\\n---------------------------\\n')\n",
    "print(result.toarray())"
   ],
   "execution_count":102,
   "outputs":[
    {
     "name":"stdout",
     "text":[
      "\n",
      "TF-IDF values in matrix form:\n",
      "---------------------------\n",
      "---------------------------\n",
      "\n",
      "[[0.42423135 0.34226718 0.         0.         0.         0.\n",
      "  0.34226718 0.         0.34226718 0.         0.         0.\n",
      "  0.         0.         0.         0.         0.         0.\n",
      "  0.         0.         0.34226718 0.         0.34226718 0.\n",
      "  0.         0.         0.         0.         0.         0.34226718\n",
      "  0.34226718 0.         0.         0.         0.         0.\n",
      "  0.         0.         0.         0.         0.        ]\n",
      " [0.         0.         0.26282204 0.26282204 0.         0.26282204\n",
      "  0.         0.         0.         0.         0.26282204 0.\n",
      "  0.21204317 0.         0.26282204 0.         0.         0.21204317\n",
      "  0.         0.26282204 0.21204317 0.         0.21204317 0.\n",
      "  0.         0.21204317 0.         0.26282204 0.         0.\n",
      "  0.         0.         0.         0.21204317 0.21204317 0.29613871\n",
      "  0.21204317 0.         0.         0.26282204 0.        ]\n",
      " [0.         0.32913985 0.         0.         0.20398018 0.\n",
      "  0.32913985 0.20398018 0.         0.20398018 0.         0.20398018\n",
      "  0.16456993 0.20398018 0.         0.         0.20398018 0.16456993\n",
      "  0.20398018 0.         0.         0.         0.         0.20398018\n",
      "  0.20398018 0.32913985 0.         0.         0.20398018 0.\n",
      "  0.16456993 0.20398018 0.20398018 0.16456993 0.16456993 0.11491888\n",
      "  0.16456993 0.         0.         0.         0.        ]\n",
      " [0.         0.         0.         0.         0.         0.\n",
      "  0.         0.         0.3753856  0.         0.         0.\n",
      "  0.         0.         0.         0.3753856  0.         0.\n",
      "  0.         0.         0.         0.         0.         0.\n",
      "  0.         0.         0.46528078 0.         0.         0.\n",
      "  0.         0.         0.         0.         0.         0.26213107\n",
      "  0.         0.46528078 0.         0.         0.46528078]\n",
      " [0.         0.         0.         0.         0.         0.\n",
      "  0.         0.         0.         0.         0.         0.\n",
      "  0.         0.         0.         0.42408634 0.         0.\n",
      "  0.         0.         0.         0.52564409 0.         0.\n",
      "  0.         0.         0.         0.         0.         0.42408634\n",
      "  0.         0.         0.         0.         0.         0.29613871\n",
      "  0.         0.         0.52564409 0.         0.        ]]\n"
     ],
     "output_type":"stream"
    }
   ],
   "metadata":{
    "datalore":{
     "type":"CODE",
     "hide_input_from_viewers":false,
     "hide_output_from_viewers":false,
     "node_id":"g3w4EPKZgcgqWZIQjC4pZv"
    }
   }
  },
  {
   "cell_type":"markdown",
   "source":[
    "# Q4"
   ],
   "attachments":{
    
   },
   "metadata":{
    "datalore":{
     "type":"MD",
     "hide_input_from_viewers":false,
     "hide_output_from_viewers":false,
     "sheet_delimiter":true
    }
   }
  },
  {
   "cell_type":"markdown",
   "source":[
    "# Q4. \n",
    "Apply the following data preprocessing techniques on iris data set. Iris dataset is freely available.\n",
    "\n",
    "<br>\n",
    "\n",
    "1)Decimal Scaling<br>\n",
    "2)Min-Max Normalization<br>\n",
    "3)z-Score Normalization (zero-mean Normalization)<br>"
   ],
   "attachments":{
    
   },
   "metadata":{
    "datalore":{
     "type":"MD",
     "hide_input_from_viewers":false,
     "hide_output_from_viewers":false,
     "node_id":"NZHCjrNNT0CTyfwIHw6l88"
    }
   }
  },
  {
   "cell_type":"code",
   "source":[
    "from sklearn import datasets\n",
    "\n",
    "# import iris data\n",
    "iris = datasets.load_iris()\n",
    "X = iris.data[:, :]\n",
    "y = iris.target"
   ],
   "execution_count":103,
   "outputs":[
    
   ],
   "metadata":{
    "datalore":{
     "type":"CODE",
     "hide_input_from_viewers":false,
     "hide_output_from_viewers":false,
     "node_id":"xp2BfcsR7yhJqX5YWV6Wke"
    }
   }
  },
  {
   "cell_type":"code",
   "source":[
    "print(X)"
   ],
   "execution_count":104,
   "outputs":[
    {
     "name":"stdout",
     "text":[
      "[[5.1 3.5 1.4 0.2]\n",
      " [4.9 3.  1.4 0.2]\n",
      " [4.7 3.2 1.3 0.2]\n",
      " [4.6 3.1 1.5 0.2]\n",
      " [5.  3.6 1.4 0.2]\n",
      " [5.4 3.9 1.7 0.4]\n",
      " [4.6 3.4 1.4 0.3]\n",
      " [5.  3.4 1.5 0.2]\n",
      " [4.4 2.9 1.4 0.2]\n",
      " [4.9 3.1 1.5 0.1]\n",
      " [5.4 3.7 1.5 0.2]\n",
      " [4.8 3.4 1.6 0.2]\n",
      " [4.8 3.  1.4 0.1]\n",
      " [4.3 3.  1.1 0.1]\n",
      " [5.8 4.  1.2 0.2]\n",
      " [5.7 4.4 1.5 0.4]\n",
      " [5.4 3.9 1.3 0.4]\n",
      " [5.1 3.5 1.4 0.3]\n",
      " [5.7 3.8 1.7 0.3]\n",
      " [5.1 3.8 1.5 0.3]\n",
      " [5.4 3.4 1.7 0.2]\n",
      " [5.1 3.7 1.5 0.4]\n",
      " [4.6 3.6 1.  0.2]\n",
      " [5.1 3.3 1.7 0.5]\n",
      " [4.8 3.4 1.9 0.2]\n",
      " [5.  3.  1.6 0.2]\n",
      " [5.  3.4 1.6 0.4]\n",
      " [5.2 3.5 1.5 0.2]\n",
      " [5.2 3.4 1.4 0.2]\n",
      " [4.7 3.2 1.6 0.2]\n",
      " [4.8 3.1 1.6 0.2]\n",
      " [5.4 3.4 1.5 0.4]\n",
      " [5.2 4.1 1.5 0.1]\n",
      " [5.5 4.2 1.4 0.2]\n",
      " [4.9 3.1 1.5 0.2]\n",
      " [5.  3.2 1.2 0.2]\n",
      " [5.5 3.5 1.3 0.2]\n",
      " [4.9 3.6 1.4 0.1]\n",
      " [4.4 3.  1.3 0.2]\n",
      " [5.1 3.4 1.5 0.2]\n",
      " [5.  3.5 1.3 0.3]\n",
      " [4.5 2.3 1.3 0.3]\n",
      " [4.4 3.2 1.3 0.2]\n",
      " [5.  3.5 1.6 0.6]\n",
      " [5.1 3.8 1.9 0.4]\n",
      " [4.8 3.  1.4 0.3]\n",
      " [5.1 3.8 1.6 0.2]\n",
      " [4.6 3.2 1.4 0.2]\n",
      " [5.3 3.7 1.5 0.2]\n",
      " [5.  3.3 1.4 0.2]\n",
      " [7.  3.2 4.7 1.4]\n",
      " [6.4 3.2 4.5 1.5]\n",
      " [6.9 3.1 4.9 1.5]\n",
      " [5.5 2.3 4.  1.3]\n",
      " [6.5 2.8 4.6 1.5]\n",
      " [5.7 2.8 4.5 1.3]\n",
      " [6.3 3.3 4.7 1.6]\n",
      " [4.9 2.4 3.3 1. ]\n",
      " [6.6 2.9 4.6 1.3]\n",
      " [5.2 2.7 3.9 1.4]\n",
      " [5.  2.  3.5 1. ]\n",
      " [5.9 3.  4.2 1.5]\n",
      " [6.  2.2 4.  1. ]\n",
      " [6.1 2.9 4.7 1.4]\n",
      " [5.6 2.9 3.6 1.3]\n",
      " [6.7 3.1 4.4 1.4]\n",
      " [5.6 3.  4.5 1.5]\n",
      " [5.8 2.7 4.1 1. ]\n",
      " [6.2 2.2 4.5 1.5]\n",
      " [5.6 2.5 3.9 1.1]\n",
      " [5.9 3.2 4.8 1.8]\n",
      " [6.1 2.8 4.  1.3]\n",
      " [6.3 2.5 4.9 1.5]\n",
      " [6.1 2.8 4.7 1.2]\n",
      " [6.4 2.9 4.3 1.3]\n",
      " [6.6 3.  4.4 1.4]\n",
      " [6.8 2.8 4.8 1.4]\n",
      " [6.7 3.  5.  1.7]\n",
      " [6.  2.9 4.5 1.5]\n",
      " [5.7 2.6 3.5 1. ]\n",
      " [5.5 2.4 3.8 1.1]\n",
      " [5.5 2.4 3.7 1. ]\n",
      " [5.8 2.7 3.9 1.2]\n",
      " [6.  2.7 5.1 1.6]\n",
      " [5.4 3.  4.5 1.5]\n",
      " [6.  3.4 4.5 1.6]\n",
      " [6.7 3.1 4.7 1.5]\n",
      " [6.3 2.3 4.4 1.3]\n",
      " [5.6 3.  4.1 1.3]\n",
      " [5.5 2.5 4.  1.3]\n",
      " [5.5 2.6 4.4 1.2]\n",
      " [6.1 3.  4.6 1.4]\n",
      " [5.8 2.6 4.  1.2]\n",
      " [5.  2.3 3.3 1. ]\n",
      " [5.6 2.7 4.2 1.3]\n",
      " [5.7 3.  4.2 1.2]\n",
      " [5.7 2.9 4.2 1.3]\n",
      " [6.2 2.9 4.3 1.3]\n",
      " [5.1 2.5 3.  1.1]\n",
      " [5.7 2.8 4.1 1.3]\n",
      " [6.3 3.3 6.  2.5]\n",
      " [5.8 2.7 5.1 1.9]\n",
      " [7.1 3.  5.9 2.1]\n",
      " [6.3 2.9 5.6 1.8]\n",
      " [6.5 3.  5.8 2.2]\n",
      " [7.6 3.  6.6 2.1]\n",
      " [4.9 2.5 4.5 1.7]\n",
      " [7.3 2.9 6.3 1.8]\n",
      " [6.7 2.5 5.8 1.8]\n",
      " [7.2 3.6 6.1 2.5]\n",
      " [6.5 3.2 5.1 2. ]\n",
      " [6.4 2.7 5.3 1.9]\n",
      " [6.8 3.  5.5 2.1]\n",
      " [5.7 2.5 5.  2. ]\n",
      " [5.8 2.8 5.1 2.4]\n",
      " [6.4 3.2 5.3 2.3]\n",
      " [6.5 3.  5.5 1.8]\n",
      " [7.7 3.8 6.7 2.2]\n",
      " [7.7 2.6 6.9 2.3]\n",
      " [6.  2.2 5.  1.5]\n",
      " [6.9 3.2 5.7 2.3]\n",
      " [5.6 2.8 4.9 2. ]\n",
      " [7.7 2.8 6.7 2. ]\n",
      " [6.3 2.7 4.9 1.8]\n",
      " [6.7 3.3 5.7 2.1]\n",
      " [7.2 3.2 6.  1.8]\n",
      " [6.2 2.8 4.8 1.8]\n",
      " [6.1 3.  4.9 1.8]\n",
      " [6.4 2.8 5.6 2.1]\n",
      " [7.2 3.  5.8 1.6]\n",
      " [7.4 2.8 6.1 1.9]\n",
      " [7.9 3.8 6.4 2. ]\n",
      " [6.4 2.8 5.6 2.2]\n",
      " [6.3 2.8 5.1 1.5]\n",
      " [6.1 2.6 5.6 1.4]\n",
      " [7.7 3.  6.1 2.3]\n",
      " [6.3 3.4 5.6 2.4]\n",
      " [6.4 3.1 5.5 1.8]\n",
      " [6.  3.  4.8 1.8]\n",
      " [6.9 3.1 5.4 2.1]\n",
      " [6.7 3.1 5.6 2.4]\n",
      " [6.9 3.1 5.1 2.3]\n",
      " [5.8 2.7 5.1 1.9]\n",
      " [6.8 3.2 5.9 2.3]\n",
      " [6.7 3.3 5.7 2.5]\n",
      " [6.7 3.  5.2 2.3]\n",
      " [6.3 2.5 5.  1.9]\n",
      " [6.5 3.  5.2 2. ]\n",
      " [6.2 3.4 5.4 2.3]\n",
      " [5.9 3.  5.1 1.8]]\n"
     ],
     "output_type":"stream"
    }
   ],
   "metadata":{
    "datalore":{
     "type":"CODE",
     "hide_input_from_viewers":false,
     "hide_output_from_viewers":false,
     "node_id":"bG1VDPwEtqXfg8CnFaCP7s"
    }
   }
  },
  {
   "cell_type":"markdown",
   "source":[
    "### 1) Decimal Scaling"
   ],
   "attachments":{
    
   },
   "metadata":{
    "datalore":{
     "type":"MD",
     "hide_input_from_viewers":false,
     "hide_output_from_viewers":false,
     "node_id":"uf4kx8R6cbtFTpkcABEicj"
    }
   }
  },
  {
   "cell_type":"code",
   "source":[
    "X_new = X.copy()\n",
    "\n",
    "column = len(X_new[0,:])\n",
    "\n",
    "#getting max out of the column\n",
    "arr = []\n",
    "for i in range(column):\n",
    "    arr.append(X_new[:, int(i)].max())\n",
    "\n",
    "#getting the significant digit of the max number\n",
    "for i in range(column):\n",
    "    arr[i] = len(str(int(arr[i])))\n",
    "\n",
    "#getting the decimal number to multiple to df\n",
    "for i in range(column):\n",
    "    num = int(arr[i])\n",
    "    for j in range(num):\n",
    "        arr[i] = arr[i] * 10\n",
    "\n",
    "#making changes to the df\n",
    "for i in range(column):\n",
    "    X_new[:, int(i)] = X_new[:, int(i)] \/ arr[i]\n",
    "\n",
    "print(X_new)"
   ],
   "execution_count":105,
   "outputs":[
    {
     "name":"stdout",
     "text":[
      "[[0.51 0.35 0.14 0.02]\n",
      " [0.49 0.3  0.14 0.02]\n",
      " [0.47 0.32 0.13 0.02]\n",
      " [0.46 0.31 0.15 0.02]\n",
      " [0.5  0.36 0.14 0.02]\n",
      " [0.54 0.39 0.17 0.04]\n",
      " [0.46 0.34 0.14 0.03]\n",
      " [0.5  0.34 0.15 0.02]\n",
      " [0.44 0.29 0.14 0.02]\n",
      " [0.49 0.31 0.15 0.01]\n",
      " [0.54 0.37 0.15 0.02]\n",
      " [0.48 0.34 0.16 0.02]\n",
      " [0.48 0.3  0.14 0.01]\n",
      " [0.43 0.3  0.11 0.01]\n",
      " [0.58 0.4  0.12 0.02]\n",
      " [0.57 0.44 0.15 0.04]\n",
      " [0.54 0.39 0.13 0.04]\n",
      " [0.51 0.35 0.14 0.03]\n",
      " [0.57 0.38 0.17 0.03]\n",
      " [0.51 0.38 0.15 0.03]\n",
      " [0.54 0.34 0.17 0.02]\n",
      " [0.51 0.37 0.15 0.04]\n",
      " [0.46 0.36 0.1  0.02]\n",
      " [0.51 0.33 0.17 0.05]\n",
      " [0.48 0.34 0.19 0.02]\n",
      " [0.5  0.3  0.16 0.02]\n",
      " [0.5  0.34 0.16 0.04]\n",
      " [0.52 0.35 0.15 0.02]\n",
      " [0.52 0.34 0.14 0.02]\n",
      " [0.47 0.32 0.16 0.02]\n",
      " [0.48 0.31 0.16 0.02]\n",
      " [0.54 0.34 0.15 0.04]\n",
      " [0.52 0.41 0.15 0.01]\n",
      " [0.55 0.42 0.14 0.02]\n",
      " [0.49 0.31 0.15 0.02]\n",
      " [0.5  0.32 0.12 0.02]\n",
      " [0.55 0.35 0.13 0.02]\n",
      " [0.49 0.36 0.14 0.01]\n",
      " [0.44 0.3  0.13 0.02]\n",
      " [0.51 0.34 0.15 0.02]\n",
      " [0.5  0.35 0.13 0.03]\n",
      " [0.45 0.23 0.13 0.03]\n",
      " [0.44 0.32 0.13 0.02]\n",
      " [0.5  0.35 0.16 0.06]\n",
      " [0.51 0.38 0.19 0.04]\n",
      " [0.48 0.3  0.14 0.03]\n",
      " [0.51 0.38 0.16 0.02]\n",
      " [0.46 0.32 0.14 0.02]\n",
      " [0.53 0.37 0.15 0.02]\n",
      " [0.5  0.33 0.14 0.02]\n",
      " [0.7  0.32 0.47 0.14]\n",
      " [0.64 0.32 0.45 0.15]\n",
      " [0.69 0.31 0.49 0.15]\n",
      " [0.55 0.23 0.4  0.13]\n",
      " [0.65 0.28 0.46 0.15]\n",
      " [0.57 0.28 0.45 0.13]\n",
      " [0.63 0.33 0.47 0.16]\n",
      " [0.49 0.24 0.33 0.1 ]\n",
      " [0.66 0.29 0.46 0.13]\n",
      " [0.52 0.27 0.39 0.14]\n",
      " [0.5  0.2  0.35 0.1 ]\n",
      " [0.59 0.3  0.42 0.15]\n",
      " [0.6  0.22 0.4  0.1 ]\n",
      " [0.61 0.29 0.47 0.14]\n",
      " [0.56 0.29 0.36 0.13]\n",
      " [0.67 0.31 0.44 0.14]\n",
      " [0.56 0.3  0.45 0.15]\n",
      " [0.58 0.27 0.41 0.1 ]\n",
      " [0.62 0.22 0.45 0.15]\n",
      " [0.56 0.25 0.39 0.11]\n",
      " [0.59 0.32 0.48 0.18]\n",
      " [0.61 0.28 0.4  0.13]\n",
      " [0.63 0.25 0.49 0.15]\n",
      " [0.61 0.28 0.47 0.12]\n",
      " [0.64 0.29 0.43 0.13]\n",
      " [0.66 0.3  0.44 0.14]\n",
      " [0.68 0.28 0.48 0.14]\n",
      " [0.67 0.3  0.5  0.17]\n",
      " [0.6  0.29 0.45 0.15]\n",
      " [0.57 0.26 0.35 0.1 ]\n",
      " [0.55 0.24 0.38 0.11]\n",
      " [0.55 0.24 0.37 0.1 ]\n",
      " [0.58 0.27 0.39 0.12]\n",
      " [0.6  0.27 0.51 0.16]\n",
      " [0.54 0.3  0.45 0.15]\n",
      " [0.6  0.34 0.45 0.16]\n",
      " [0.67 0.31 0.47 0.15]\n",
      " [0.63 0.23 0.44 0.13]\n",
      " [0.56 0.3  0.41 0.13]\n",
      " [0.55 0.25 0.4  0.13]\n",
      " [0.55 0.26 0.44 0.12]\n",
      " [0.61 0.3  0.46 0.14]\n",
      " [0.58 0.26 0.4  0.12]\n",
      " [0.5  0.23 0.33 0.1 ]\n",
      " [0.56 0.27 0.42 0.13]\n",
      " [0.57 0.3  0.42 0.12]\n",
      " [0.57 0.29 0.42 0.13]\n",
      " [0.62 0.29 0.43 0.13]\n",
      " [0.51 0.25 0.3  0.11]\n",
      " [0.57 0.28 0.41 0.13]\n",
      " [0.63 0.33 0.6  0.25]\n",
      " [0.58 0.27 0.51 0.19]\n",
      " [0.71 0.3  0.59 0.21]\n",
      " [0.63 0.29 0.56 0.18]\n",
      " [0.65 0.3  0.58 0.22]\n",
      " [0.76 0.3  0.66 0.21]\n",
      " [0.49 0.25 0.45 0.17]\n",
      " [0.73 0.29 0.63 0.18]\n",
      " [0.67 0.25 0.58 0.18]\n",
      " [0.72 0.36 0.61 0.25]\n",
      " [0.65 0.32 0.51 0.2 ]\n",
      " [0.64 0.27 0.53 0.19]\n",
      " [0.68 0.3  0.55 0.21]\n",
      " [0.57 0.25 0.5  0.2 ]\n",
      " [0.58 0.28 0.51 0.24]\n",
      " [0.64 0.32 0.53 0.23]\n",
      " [0.65 0.3  0.55 0.18]\n",
      " [0.77 0.38 0.67 0.22]\n",
      " [0.77 0.26 0.69 0.23]\n",
      " [0.6  0.22 0.5  0.15]\n",
      " [0.69 0.32 0.57 0.23]\n",
      " [0.56 0.28 0.49 0.2 ]\n",
      " [0.77 0.28 0.67 0.2 ]\n",
      " [0.63 0.27 0.49 0.18]\n",
      " [0.67 0.33 0.57 0.21]\n",
      " [0.72 0.32 0.6  0.18]\n",
      " [0.62 0.28 0.48 0.18]\n",
      " [0.61 0.3  0.49 0.18]\n",
      " [0.64 0.28 0.56 0.21]\n",
      " [0.72 0.3  0.58 0.16]\n",
      " [0.74 0.28 0.61 0.19]\n",
      " [0.79 0.38 0.64 0.2 ]\n",
      " [0.64 0.28 0.56 0.22]\n",
      " [0.63 0.28 0.51 0.15]\n",
      " [0.61 0.26 0.56 0.14]\n",
      " [0.77 0.3  0.61 0.23]\n",
      " [0.63 0.34 0.56 0.24]\n",
      " [0.64 0.31 0.55 0.18]\n",
      " [0.6  0.3  0.48 0.18]\n",
      " [0.69 0.31 0.54 0.21]\n",
      " [0.67 0.31 0.56 0.24]\n",
      " [0.69 0.31 0.51 0.23]\n",
      " [0.58 0.27 0.51 0.19]\n",
      " [0.68 0.32 0.59 0.23]\n",
      " [0.67 0.33 0.57 0.25]\n",
      " [0.67 0.3  0.52 0.23]\n",
      " [0.63 0.25 0.5  0.19]\n",
      " [0.65 0.3  0.52 0.2 ]\n",
      " [0.62 0.34 0.54 0.23]\n",
      " [0.59 0.3  0.51 0.18]]\n"
     ],
     "output_type":"stream"
    }
   ],
   "metadata":{
    "datalore":{
     "type":"CODE",
     "hide_input_from_viewers":false,
     "hide_output_from_viewers":false,
     "node_id":"JWgMAVrbOqI4X5E6etbMb6"
    }
   }
  },
  {
   "cell_type":"markdown",
   "source":[
    "### 2) Min-Max Normalization"
   ],
   "attachments":{
    
   },
   "metadata":{
    "datalore":{
     "type":"MD",
     "hide_input_from_viewers":false,
     "hide_output_from_viewers":false,
     "node_id":"YpvpaYndNcOaWKlYTOk9Mz"
    }
   }
  },
  {
   "cell_type":"code",
   "source":[
    "from sklearn.preprocessing import MinMaxScaler\n",
    "\n",
    "# define min max scaler\n",
    "scaler = MinMaxScaler()\n",
    "# transform data\n",
    "MinMaxScaled = scaler.fit_transform(X)\n",
    "print(MinMaxScaled)"
   ],
   "execution_count":106,
   "outputs":[
    {
     "name":"stdout",
     "text":[
      "[[0.22222222 0.625      0.06779661 0.04166667]\n",
      " [0.16666667 0.41666667 0.06779661 0.04166667]\n",
      " [0.11111111 0.5        0.05084746 0.04166667]\n",
      " [0.08333333 0.45833333 0.08474576 0.04166667]\n",
      " [0.19444444 0.66666667 0.06779661 0.04166667]\n",
      " [0.30555556 0.79166667 0.11864407 0.125     ]\n",
      " [0.08333333 0.58333333 0.06779661 0.08333333]\n",
      " [0.19444444 0.58333333 0.08474576 0.04166667]\n",
      " [0.02777778 0.375      0.06779661 0.04166667]\n",
      " [0.16666667 0.45833333 0.08474576 0.        ]\n",
      " [0.30555556 0.70833333 0.08474576 0.04166667]\n",
      " [0.13888889 0.58333333 0.10169492 0.04166667]\n",
      " [0.13888889 0.41666667 0.06779661 0.        ]\n",
      " [0.         0.41666667 0.01694915 0.        ]\n",
      " [0.41666667 0.83333333 0.03389831 0.04166667]\n",
      " [0.38888889 1.         0.08474576 0.125     ]\n",
      " [0.30555556 0.79166667 0.05084746 0.125     ]\n",
      " [0.22222222 0.625      0.06779661 0.08333333]\n",
      " [0.38888889 0.75       0.11864407 0.08333333]\n",
      " [0.22222222 0.75       0.08474576 0.08333333]\n",
      " [0.30555556 0.58333333 0.11864407 0.04166667]\n",
      " [0.22222222 0.70833333 0.08474576 0.125     ]\n",
      " [0.08333333 0.66666667 0.         0.04166667]\n",
      " [0.22222222 0.54166667 0.11864407 0.16666667]\n",
      " [0.13888889 0.58333333 0.15254237 0.04166667]\n",
      " [0.19444444 0.41666667 0.10169492 0.04166667]\n",
      " [0.19444444 0.58333333 0.10169492 0.125     ]\n",
      " [0.25       0.625      0.08474576 0.04166667]\n",
      " [0.25       0.58333333 0.06779661 0.04166667]\n",
      " [0.11111111 0.5        0.10169492 0.04166667]\n",
      " [0.13888889 0.45833333 0.10169492 0.04166667]\n",
      " [0.30555556 0.58333333 0.08474576 0.125     ]\n",
      " [0.25       0.875      0.08474576 0.        ]\n",
      " [0.33333333 0.91666667 0.06779661 0.04166667]\n",
      " [0.16666667 0.45833333 0.08474576 0.04166667]\n",
      " [0.19444444 0.5        0.03389831 0.04166667]\n",
      " [0.33333333 0.625      0.05084746 0.04166667]\n",
      " [0.16666667 0.66666667 0.06779661 0.        ]\n",
      " [0.02777778 0.41666667 0.05084746 0.04166667]\n",
      " [0.22222222 0.58333333 0.08474576 0.04166667]\n",
      " [0.19444444 0.625      0.05084746 0.08333333]\n",
      " [0.05555556 0.125      0.05084746 0.08333333]\n",
      " [0.02777778 0.5        0.05084746 0.04166667]\n",
      " [0.19444444 0.625      0.10169492 0.20833333]\n",
      " [0.22222222 0.75       0.15254237 0.125     ]\n",
      " [0.13888889 0.41666667 0.06779661 0.08333333]\n",
      " [0.22222222 0.75       0.10169492 0.04166667]\n",
      " [0.08333333 0.5        0.06779661 0.04166667]\n",
      " [0.27777778 0.70833333 0.08474576 0.04166667]\n",
      " [0.19444444 0.54166667 0.06779661 0.04166667]\n",
      " [0.75       0.5        0.62711864 0.54166667]\n",
      " [0.58333333 0.5        0.59322034 0.58333333]\n",
      " [0.72222222 0.45833333 0.66101695 0.58333333]\n",
      " [0.33333333 0.125      0.50847458 0.5       ]\n",
      " [0.61111111 0.33333333 0.61016949 0.58333333]\n",
      " [0.38888889 0.33333333 0.59322034 0.5       ]\n",
      " [0.55555556 0.54166667 0.62711864 0.625     ]\n",
      " [0.16666667 0.16666667 0.38983051 0.375     ]\n",
      " [0.63888889 0.375      0.61016949 0.5       ]\n",
      " [0.25       0.29166667 0.49152542 0.54166667]\n",
      " [0.19444444 0.         0.42372881 0.375     ]\n",
      " [0.44444444 0.41666667 0.54237288 0.58333333]\n",
      " [0.47222222 0.08333333 0.50847458 0.375     ]\n",
      " [0.5        0.375      0.62711864 0.54166667]\n",
      " [0.36111111 0.375      0.44067797 0.5       ]\n",
      " [0.66666667 0.45833333 0.57627119 0.54166667]\n",
      " [0.36111111 0.41666667 0.59322034 0.58333333]\n",
      " [0.41666667 0.29166667 0.52542373 0.375     ]\n",
      " [0.52777778 0.08333333 0.59322034 0.58333333]\n",
      " [0.36111111 0.20833333 0.49152542 0.41666667]\n",
      " [0.44444444 0.5        0.6440678  0.70833333]\n",
      " [0.5        0.33333333 0.50847458 0.5       ]\n",
      " [0.55555556 0.20833333 0.66101695 0.58333333]\n",
      " [0.5        0.33333333 0.62711864 0.45833333]\n",
      " [0.58333333 0.375      0.55932203 0.5       ]\n",
      " [0.63888889 0.41666667 0.57627119 0.54166667]\n",
      " [0.69444444 0.33333333 0.6440678  0.54166667]\n",
      " [0.66666667 0.41666667 0.6779661  0.66666667]\n",
      " [0.47222222 0.375      0.59322034 0.58333333]\n",
      " [0.38888889 0.25       0.42372881 0.375     ]\n",
      " [0.33333333 0.16666667 0.47457627 0.41666667]\n",
      " [0.33333333 0.16666667 0.45762712 0.375     ]\n",
      " [0.41666667 0.29166667 0.49152542 0.45833333]\n",
      " [0.47222222 0.29166667 0.69491525 0.625     ]\n",
      " [0.30555556 0.41666667 0.59322034 0.58333333]\n",
      " [0.47222222 0.58333333 0.59322034 0.625     ]\n",
      " [0.66666667 0.45833333 0.62711864 0.58333333]\n",
      " [0.55555556 0.125      0.57627119 0.5       ]\n",
      " [0.36111111 0.41666667 0.52542373 0.5       ]\n",
      " [0.33333333 0.20833333 0.50847458 0.5       ]\n",
      " [0.33333333 0.25       0.57627119 0.45833333]\n",
      " [0.5        0.41666667 0.61016949 0.54166667]\n",
      " [0.41666667 0.25       0.50847458 0.45833333]\n",
      " [0.19444444 0.125      0.38983051 0.375     ]\n",
      " [0.36111111 0.29166667 0.54237288 0.5       ]\n",
      " [0.38888889 0.41666667 0.54237288 0.45833333]\n",
      " [0.38888889 0.375      0.54237288 0.5       ]\n",
      " [0.52777778 0.375      0.55932203 0.5       ]\n",
      " [0.22222222 0.20833333 0.33898305 0.41666667]\n",
      " [0.38888889 0.33333333 0.52542373 0.5       ]\n",
      " [0.55555556 0.54166667 0.84745763 1.        ]\n",
      " [0.41666667 0.29166667 0.69491525 0.75      ]\n",
      " [0.77777778 0.41666667 0.83050847 0.83333333]\n",
      " [0.55555556 0.375      0.77966102 0.70833333]\n",
      " [0.61111111 0.41666667 0.81355932 0.875     ]\n",
      " [0.91666667 0.41666667 0.94915254 0.83333333]\n",
      " [0.16666667 0.20833333 0.59322034 0.66666667]\n",
      " [0.83333333 0.375      0.89830508 0.70833333]\n",
      " [0.66666667 0.20833333 0.81355932 0.70833333]\n",
      " [0.80555556 0.66666667 0.86440678 1.        ]\n",
      " [0.61111111 0.5        0.69491525 0.79166667]\n",
      " [0.58333333 0.29166667 0.72881356 0.75      ]\n",
      " [0.69444444 0.41666667 0.76271186 0.83333333]\n",
      " [0.38888889 0.20833333 0.6779661  0.79166667]\n",
      " [0.41666667 0.33333333 0.69491525 0.95833333]\n",
      " [0.58333333 0.5        0.72881356 0.91666667]\n",
      " [0.61111111 0.41666667 0.76271186 0.70833333]\n",
      " [0.94444444 0.75       0.96610169 0.875     ]\n",
      " [0.94444444 0.25       1.         0.91666667]\n",
      " [0.47222222 0.08333333 0.6779661  0.58333333]\n",
      " [0.72222222 0.5        0.79661017 0.91666667]\n",
      " [0.36111111 0.33333333 0.66101695 0.79166667]\n",
      " [0.94444444 0.33333333 0.96610169 0.79166667]\n",
      " [0.55555556 0.29166667 0.66101695 0.70833333]\n",
      " [0.66666667 0.54166667 0.79661017 0.83333333]\n",
      " [0.80555556 0.5        0.84745763 0.70833333]\n",
      " [0.52777778 0.33333333 0.6440678  0.70833333]\n",
      " [0.5        0.41666667 0.66101695 0.70833333]\n",
      " [0.58333333 0.33333333 0.77966102 0.83333333]\n",
      " [0.80555556 0.41666667 0.81355932 0.625     ]\n",
      " [0.86111111 0.33333333 0.86440678 0.75      ]\n",
      " [1.         0.75       0.91525424 0.79166667]\n",
      " [0.58333333 0.33333333 0.77966102 0.875     ]\n",
      " [0.55555556 0.33333333 0.69491525 0.58333333]\n",
      " [0.5        0.25       0.77966102 0.54166667]\n",
      " [0.94444444 0.41666667 0.86440678 0.91666667]\n",
      " [0.55555556 0.58333333 0.77966102 0.95833333]\n",
      " [0.58333333 0.45833333 0.76271186 0.70833333]\n",
      " [0.47222222 0.41666667 0.6440678  0.70833333]\n",
      " [0.72222222 0.45833333 0.74576271 0.83333333]\n",
      " [0.66666667 0.45833333 0.77966102 0.95833333]\n",
      " [0.72222222 0.45833333 0.69491525 0.91666667]\n",
      " [0.41666667 0.29166667 0.69491525 0.75      ]\n",
      " [0.69444444 0.5        0.83050847 0.91666667]\n",
      " [0.66666667 0.54166667 0.79661017 1.        ]\n",
      " [0.66666667 0.41666667 0.71186441 0.91666667]\n",
      " [0.55555556 0.20833333 0.6779661  0.75      ]\n",
      " [0.61111111 0.41666667 0.71186441 0.79166667]\n",
      " [0.52777778 0.58333333 0.74576271 0.91666667]\n",
      " [0.44444444 0.41666667 0.69491525 0.70833333]]\n"
     ],
     "output_type":"stream"
    }
   ],
   "metadata":{
    "datalore":{
     "type":"CODE",
     "hide_input_from_viewers":false,
     "hide_output_from_viewers":false,
     "node_id":"fYRugwICNTCYbLQQBxpVFt"
    }
   }
  },
  {
   "cell_type":"markdown",
   "source":[
    "### 3) z-Score Normalization"
   ],
   "attachments":{
    
   },
   "metadata":{
    "datalore":{
     "type":"MD",
     "hide_input_from_viewers":false,
     "hide_output_from_viewers":false,
     "node_id":"K6e42KyBge71TRQR7hvlAW"
    }
   }
  },
  {
   "cell_type":"code",
   "source":[
    "from sklearn.preprocessing import StandardScaler\n",
    "\n",
    "# define standard scaler\n",
    "scaler = StandardScaler()\n",
    "# transform data\n",
    "StandardScaled = scaler.fit_transform(X)\n",
    "print(StandardScaled)"
   ],
   "execution_count":107,
   "outputs":[
    {
     "name":"stdout",
     "text":[
      "[[-9.00681170e-01  1.01900435e+00 -1.34022653e+00 -1.31544430e+00]\n",
      " [-1.14301691e+00 -1.31979479e-01 -1.34022653e+00 -1.31544430e+00]\n",
      " [-1.38535265e+00  3.28414053e-01 -1.39706395e+00 -1.31544430e+00]\n",
      " [-1.50652052e+00  9.82172869e-02 -1.28338910e+00 -1.31544430e+00]\n",
      " [-1.02184904e+00  1.24920112e+00 -1.34022653e+00 -1.31544430e+00]\n",
      " [-5.37177559e-01  1.93979142e+00 -1.16971425e+00 -1.05217993e+00]\n",
      " [-1.50652052e+00  7.88807586e-01 -1.34022653e+00 -1.18381211e+00]\n",
      " [-1.02184904e+00  7.88807586e-01 -1.28338910e+00 -1.31544430e+00]\n",
      " [-1.74885626e+00 -3.62176246e-01 -1.34022653e+00 -1.31544430e+00]\n",
      " [-1.14301691e+00  9.82172869e-02 -1.28338910e+00 -1.44707648e+00]\n",
      " [-5.37177559e-01  1.47939788e+00 -1.28338910e+00 -1.31544430e+00]\n",
      " [-1.26418478e+00  7.88807586e-01 -1.22655167e+00 -1.31544430e+00]\n",
      " [-1.26418478e+00 -1.31979479e-01 -1.34022653e+00 -1.44707648e+00]\n",
      " [-1.87002413e+00 -1.31979479e-01 -1.51073881e+00 -1.44707648e+00]\n",
      " [-5.25060772e-02  2.16998818e+00 -1.45390138e+00 -1.31544430e+00]\n",
      " [-1.73673948e-01  3.09077525e+00 -1.28338910e+00 -1.05217993e+00]\n",
      " [-5.37177559e-01  1.93979142e+00 -1.39706395e+00 -1.05217993e+00]\n",
      " [-9.00681170e-01  1.01900435e+00 -1.34022653e+00 -1.18381211e+00]\n",
      " [-1.73673948e-01  1.70959465e+00 -1.16971425e+00 -1.18381211e+00]\n",
      " [-9.00681170e-01  1.70959465e+00 -1.28338910e+00 -1.18381211e+00]\n",
      " [-5.37177559e-01  7.88807586e-01 -1.16971425e+00 -1.31544430e+00]\n",
      " [-9.00681170e-01  1.47939788e+00 -1.28338910e+00 -1.05217993e+00]\n",
      " [-1.50652052e+00  1.24920112e+00 -1.56757623e+00 -1.31544430e+00]\n",
      " [-9.00681170e-01  5.58610819e-01 -1.16971425e+00 -9.20547742e-01]\n",
      " [-1.26418478e+00  7.88807586e-01 -1.05603939e+00 -1.31544430e+00]\n",
      " [-1.02184904e+00 -1.31979479e-01 -1.22655167e+00 -1.31544430e+00]\n",
      " [-1.02184904e+00  7.88807586e-01 -1.22655167e+00 -1.05217993e+00]\n",
      " [-7.79513300e-01  1.01900435e+00 -1.28338910e+00 -1.31544430e+00]\n",
      " [-7.79513300e-01  7.88807586e-01 -1.34022653e+00 -1.31544430e+00]\n",
      " [-1.38535265e+00  3.28414053e-01 -1.22655167e+00 -1.31544430e+00]\n",
      " [-1.26418478e+00  9.82172869e-02 -1.22655167e+00 -1.31544430e+00]\n",
      " [-5.37177559e-01  7.88807586e-01 -1.28338910e+00 -1.05217993e+00]\n",
      " [-7.79513300e-01  2.40018495e+00 -1.28338910e+00 -1.44707648e+00]\n",
      " [-4.16009689e-01  2.63038172e+00 -1.34022653e+00 -1.31544430e+00]\n",
      " [-1.14301691e+00  9.82172869e-02 -1.28338910e+00 -1.31544430e+00]\n",
      " [-1.02184904e+00  3.28414053e-01 -1.45390138e+00 -1.31544430e+00]\n",
      " [-4.16009689e-01  1.01900435e+00 -1.39706395e+00 -1.31544430e+00]\n",
      " [-1.14301691e+00  1.24920112e+00 -1.34022653e+00 -1.44707648e+00]\n",
      " [-1.74885626e+00 -1.31979479e-01 -1.39706395e+00 -1.31544430e+00]\n",
      " [-9.00681170e-01  7.88807586e-01 -1.28338910e+00 -1.31544430e+00]\n",
      " [-1.02184904e+00  1.01900435e+00 -1.39706395e+00 -1.18381211e+00]\n",
      " [-1.62768839e+00 -1.74335684e+00 -1.39706395e+00 -1.18381211e+00]\n",
      " [-1.74885626e+00  3.28414053e-01 -1.39706395e+00 -1.31544430e+00]\n",
      " [-1.02184904e+00  1.01900435e+00 -1.22655167e+00 -7.88915558e-01]\n",
      " [-9.00681170e-01  1.70959465e+00 -1.05603939e+00 -1.05217993e+00]\n",
      " [-1.26418478e+00 -1.31979479e-01 -1.34022653e+00 -1.18381211e+00]\n",
      " [-9.00681170e-01  1.70959465e+00 -1.22655167e+00 -1.31544430e+00]\n",
      " [-1.50652052e+00  3.28414053e-01 -1.34022653e+00 -1.31544430e+00]\n",
      " [-6.58345429e-01  1.47939788e+00 -1.28338910e+00 -1.31544430e+00]\n",
      " [-1.02184904e+00  5.58610819e-01 -1.34022653e+00 -1.31544430e+00]\n",
      " [ 1.40150837e+00  3.28414053e-01  5.35408562e-01  2.64141916e-01]\n",
      " [ 6.74501145e-01  3.28414053e-01  4.21733708e-01  3.95774101e-01]\n",
      " [ 1.28034050e+00  9.82172869e-02  6.49083415e-01  3.95774101e-01]\n",
      " [-4.16009689e-01 -1.74335684e+00  1.37546573e-01  1.32509732e-01]\n",
      " [ 7.95669016e-01 -5.92373012e-01  4.78571135e-01  3.95774101e-01]\n",
      " [-1.73673948e-01 -5.92373012e-01  4.21733708e-01  1.32509732e-01]\n",
      " [ 5.53333275e-01  5.58610819e-01  5.35408562e-01  5.27406285e-01]\n",
      " [-1.14301691e+00 -1.51316008e+00 -2.60315415e-01 -2.62386821e-01]\n",
      " [ 9.16836886e-01 -3.62176246e-01  4.78571135e-01  1.32509732e-01]\n",
      " [-7.79513300e-01 -8.22569778e-01  8.07091462e-02  2.64141916e-01]\n",
      " [-1.02184904e+00 -2.43394714e+00 -1.46640561e-01 -2.62386821e-01]\n",
      " [ 6.86617933e-02 -1.31979479e-01  2.51221427e-01  3.95774101e-01]\n",
      " [ 1.89829664e-01 -1.97355361e+00  1.37546573e-01 -2.62386821e-01]\n",
      " [ 3.10997534e-01 -3.62176246e-01  5.35408562e-01  2.64141916e-01]\n",
      " [-2.94841818e-01 -3.62176246e-01 -8.98031345e-02  1.32509732e-01]\n",
      " [ 1.03800476e+00  9.82172869e-02  3.64896281e-01  2.64141916e-01]\n",
      " [-2.94841818e-01 -1.31979479e-01  4.21733708e-01  3.95774101e-01]\n",
      " [-5.25060772e-02 -8.22569778e-01  1.94384000e-01 -2.62386821e-01]\n",
      " [ 4.32165405e-01 -1.97355361e+00  4.21733708e-01  3.95774101e-01]\n",
      " [-2.94841818e-01 -1.28296331e+00  8.07091462e-02 -1.30754636e-01]\n",
      " [ 6.86617933e-02  3.28414053e-01  5.92245988e-01  7.90670654e-01]\n",
      " [ 3.10997534e-01 -5.92373012e-01  1.37546573e-01  1.32509732e-01]\n",
      " [ 5.53333275e-01 -1.28296331e+00  6.49083415e-01  3.95774101e-01]\n",
      " [ 3.10997534e-01 -5.92373012e-01  5.35408562e-01  8.77547895e-04]\n",
      " [ 6.74501145e-01 -3.62176246e-01  3.08058854e-01  1.32509732e-01]\n",
      " [ 9.16836886e-01 -1.31979479e-01  3.64896281e-01  2.64141916e-01]\n",
      " [ 1.15917263e+00 -5.92373012e-01  5.92245988e-01  2.64141916e-01]\n",
      " [ 1.03800476e+00 -1.31979479e-01  7.05920842e-01  6.59038469e-01]\n",
      " [ 1.89829664e-01 -3.62176246e-01  4.21733708e-01  3.95774101e-01]\n",
      " [-1.73673948e-01 -1.05276654e+00 -1.46640561e-01 -2.62386821e-01]\n",
      " [-4.16009689e-01 -1.51316008e+00  2.38717193e-02 -1.30754636e-01]\n",
      " [-4.16009689e-01 -1.51316008e+00 -3.29657076e-02 -2.62386821e-01]\n",
      " [-5.25060772e-02 -8.22569778e-01  8.07091462e-02  8.77547895e-04]\n",
      " [ 1.89829664e-01 -8.22569778e-01  7.62758269e-01  5.27406285e-01]\n",
      " [-5.37177559e-01 -1.31979479e-01  4.21733708e-01  3.95774101e-01]\n",
      " [ 1.89829664e-01  7.88807586e-01  4.21733708e-01  5.27406285e-01]\n",
      " [ 1.03800476e+00  9.82172869e-02  5.35408562e-01  3.95774101e-01]\n",
      " [ 5.53333275e-01 -1.74335684e+00  3.64896281e-01  1.32509732e-01]\n",
      " [-2.94841818e-01 -1.31979479e-01  1.94384000e-01  1.32509732e-01]\n",
      " [-4.16009689e-01 -1.28296331e+00  1.37546573e-01  1.32509732e-01]\n",
      " [-4.16009689e-01 -1.05276654e+00  3.64896281e-01  8.77547895e-04]\n",
      " [ 3.10997534e-01 -1.31979479e-01  4.78571135e-01  2.64141916e-01]\n",
      " [-5.25060772e-02 -1.05276654e+00  1.37546573e-01  8.77547895e-04]\n",
      " [-1.02184904e+00 -1.74335684e+00 -2.60315415e-01 -2.62386821e-01]\n",
      " [-2.94841818e-01 -8.22569778e-01  2.51221427e-01  1.32509732e-01]\n",
      " [-1.73673948e-01 -1.31979479e-01  2.51221427e-01  8.77547895e-04]\n",
      " [-1.73673948e-01 -3.62176246e-01  2.51221427e-01  1.32509732e-01]\n",
      " [ 4.32165405e-01 -3.62176246e-01  3.08058854e-01  1.32509732e-01]\n",
      " [-9.00681170e-01 -1.28296331e+00 -4.30827696e-01 -1.30754636e-01]\n",
      " [-1.73673948e-01 -5.92373012e-01  1.94384000e-01  1.32509732e-01]\n",
      " [ 5.53333275e-01  5.58610819e-01  1.27429511e+00  1.71209594e+00]\n",
      " [-5.25060772e-02 -8.22569778e-01  7.62758269e-01  9.22302838e-01]\n",
      " [ 1.52267624e+00 -1.31979479e-01  1.21745768e+00  1.18556721e+00]\n",
      " [ 5.53333275e-01 -3.62176246e-01  1.04694540e+00  7.90670654e-01]\n",
      " [ 7.95669016e-01 -1.31979479e-01  1.16062026e+00  1.31719939e+00]\n",
      " [ 2.12851559e+00 -1.31979479e-01  1.61531967e+00  1.18556721e+00]\n",
      " [-1.14301691e+00 -1.28296331e+00  4.21733708e-01  6.59038469e-01]\n",
      " [ 1.76501198e+00 -3.62176246e-01  1.44480739e+00  7.90670654e-01]\n",
      " [ 1.03800476e+00 -1.28296331e+00  1.16062026e+00  7.90670654e-01]\n",
      " [ 1.64384411e+00  1.24920112e+00  1.33113254e+00  1.71209594e+00]\n",
      " [ 7.95669016e-01  3.28414053e-01  7.62758269e-01  1.05393502e+00]\n",
      " [ 6.74501145e-01 -8.22569778e-01  8.76433123e-01  9.22302838e-01]\n",
      " [ 1.15917263e+00 -1.31979479e-01  9.90107977e-01  1.18556721e+00]\n",
      " [-1.73673948e-01 -1.28296331e+00  7.05920842e-01  1.05393502e+00]\n",
      " [-5.25060772e-02 -5.92373012e-01  7.62758269e-01  1.58046376e+00]\n",
      " [ 6.74501145e-01  3.28414053e-01  8.76433123e-01  1.44883158e+00]\n",
      " [ 7.95669016e-01 -1.31979479e-01  9.90107977e-01  7.90670654e-01]\n",
      " [ 2.24968346e+00  1.70959465e+00  1.67215710e+00  1.31719939e+00]\n",
      " [ 2.24968346e+00 -1.05276654e+00  1.78583195e+00  1.44883158e+00]\n",
      " [ 1.89829664e-01 -1.97355361e+00  7.05920842e-01  3.95774101e-01]\n",
      " [ 1.28034050e+00  3.28414053e-01  1.10378283e+00  1.44883158e+00]\n",
      " [-2.94841818e-01 -5.92373012e-01  6.49083415e-01  1.05393502e+00]\n",
      " [ 2.24968346e+00 -5.92373012e-01  1.67215710e+00  1.05393502e+00]\n",
      " [ 5.53333275e-01 -8.22569778e-01  6.49083415e-01  7.90670654e-01]\n",
      " [ 1.03800476e+00  5.58610819e-01  1.10378283e+00  1.18556721e+00]\n",
      " [ 1.64384411e+00  3.28414053e-01  1.27429511e+00  7.90670654e-01]\n",
      " [ 4.32165405e-01 -5.92373012e-01  5.92245988e-01  7.90670654e-01]\n",
      " [ 3.10997534e-01 -1.31979479e-01  6.49083415e-01  7.90670654e-01]\n",
      " [ 6.74501145e-01 -5.92373012e-01  1.04694540e+00  1.18556721e+00]\n",
      " [ 1.64384411e+00 -1.31979479e-01  1.16062026e+00  5.27406285e-01]\n",
      " [ 1.88617985e+00 -5.92373012e-01  1.33113254e+00  9.22302838e-01]\n",
      " [ 2.49201920e+00  1.70959465e+00  1.50164482e+00  1.05393502e+00]\n",
      " [ 6.74501145e-01 -5.92373012e-01  1.04694540e+00  1.31719939e+00]\n",
      " [ 5.53333275e-01 -5.92373012e-01  7.62758269e-01  3.95774101e-01]\n",
      " [ 3.10997534e-01 -1.05276654e+00  1.04694540e+00  2.64141916e-01]\n",
      " [ 2.24968346e+00 -1.31979479e-01  1.33113254e+00  1.44883158e+00]\n",
      " [ 5.53333275e-01  7.88807586e-01  1.04694540e+00  1.58046376e+00]\n",
      " [ 6.74501145e-01  9.82172869e-02  9.90107977e-01  7.90670654e-01]\n",
      " [ 1.89829664e-01 -1.31979479e-01  5.92245988e-01  7.90670654e-01]\n",
      " [ 1.28034050e+00  9.82172869e-02  9.33270550e-01  1.18556721e+00]\n",
      " [ 1.03800476e+00  9.82172869e-02  1.04694540e+00  1.58046376e+00]\n",
      " [ 1.28034050e+00  9.82172869e-02  7.62758269e-01  1.44883158e+00]\n",
      " [-5.25060772e-02 -8.22569778e-01  7.62758269e-01  9.22302838e-01]\n",
      " [ 1.15917263e+00  3.28414053e-01  1.21745768e+00  1.44883158e+00]\n",
      " [ 1.03800476e+00  5.58610819e-01  1.10378283e+00  1.71209594e+00]\n",
      " [ 1.03800476e+00 -1.31979479e-01  8.19595696e-01  1.44883158e+00]\n",
      " [ 5.53333275e-01 -1.28296331e+00  7.05920842e-01  9.22302838e-01]\n",
      " [ 7.95669016e-01 -1.31979479e-01  8.19595696e-01  1.05393502e+00]\n",
      " [ 4.32165405e-01  7.88807586e-01  9.33270550e-01  1.44883158e+00]\n",
      " [ 6.86617933e-02 -1.31979479e-01  7.62758269e-01  7.90670654e-01]]\n"
     ],
     "output_type":"stream"
    }
   ],
   "metadata":{
    "datalore":{
     "type":"CODE",
     "hide_input_from_viewers":false,
     "hide_output_from_viewers":false,
     "node_id":"igMXNu8TUAqWNtoK7Kkauq"
    }
   }
  }
 ],
 "metadata":{
  "kernelspec":{
   "display_name":"Python",
   "language":"python",
   "name":"python"
  },
  "datalore":{
   "version":1,
   "computation_mode":"JUPYTER",
   "package_manager":"pip",
   "base_environment":"default",
   "packages":[
    {
     "name":"nltk",
     "version":"3.7",
     "source":"PIP"
    },
    {
     "name":"nltk-tgrep",
     "version":"1.0.6",
     "source":"PIP"
    },
    {
     "name":"punk",
     "version":"3.0.0",
     "source":"PIP"
    },
    {
     "name":"textblob",
     "version":"0.17.1",
     "source":"PIP"
    }
   ]
  }
 },
 "nbformat":4,
 "nbformat_minor":4
}